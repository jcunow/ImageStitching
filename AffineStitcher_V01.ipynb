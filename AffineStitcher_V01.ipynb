{
 "cells": [
  {
   "cell_type": "code",
   "execution_count": null,
   "id": "e3af0589",
   "metadata": {},
   "outputs": [],
   "source": [
    "### Script by Johannes Cunow\n",
    "### Edited: 25.01.24\n",
    "\n",
    "# adapted from: https://github.com/OpenStitching/stitching_tutorial/blob/master/docs/Stitching%20Tutorial.md\n",
    "import os\n",
    "import cv2\n",
    "\n",
    "def list_files_with_pattern(directory_path, file_pattern):\n",
    "    file_paths = []\n",
    "    for root, _, files in os.walk(directory_path):\n",
    "        for file in files:\n",
    "            if file_pattern in file:\n",
    "                file_path = os.path.join(root, file)\n",
    "                file_paths.append(file_path)\n",
    "    return file_paths"
   ]
  },
  {
   "cell_type": "code",
   "execution_count": null,
   "id": "10077dd1",
   "metadata": {},
   "outputs": [],
   "source": [
    "###### change if needed ######\n",
    "##############################\n",
    "\n",
    "#year= str(list_unique_names_within_range(imgs,52,56))\n",
    "year = '2025'\n",
    "#maxdepth = list_unique_names_within_range(imgs,62,66)\n",
    "Session = 'Session02'\n",
    "directory_path = 'C:/Users/jocu0013/Desktop/Oulanka/Scan_Raw/Oulanka2025_July/'\n",
    "#directory_path ='C:/Users/jocu0013/Desktop/PhenoLinkY2/Root Scans/2024/Session009/'\n",
    "path_out = 'C:/Users/jocu0013/Desktop/blended_images/AffineStitcher/2025_02/'+ 'Oulanka' + year + '_' + Session + '_' \n",
    "#path_out = 'C:/Users/jocu0013/Desktop/blended_images/AffineStitcher/2024_009/'+ 'Oulanka' + year + '_' + Session + '_' \n",
    "pattern = '.tiff'\n",
    "imgs = list_files_with_pattern(directory_path,pattern)\n",
    "# filter? \n",
    "#imgs = imgs[0:62] # only forest\n",
    "imgs = imgs[63:274] # only fen"
   ]
  },
  {
   "cell_type": "code",
   "execution_count": null,
   "id": "fe5ff1e6",
   "metadata": {},
   "outputs": [],
   "source": [
    "def list_unique_names_within_range(names_list, start_index, end_index):\n",
    "    unique_names = set()\n",
    "\n",
    "    for name in names_list:\n",
    "        subset_name = name[start_index:end_index]\n",
    "        unique_names.add(subset_name)\n",
    "        distinct_elements = list(set(unique_names))\n",
    "\n",
    "    return list(distinct_elements)\n",
    "\n",
    "\n",
    "def subset_strings_by_range(input_list, start_index, end_index):\n",
    "    subset_strings = [element[start_index:end_index] for element in input_list if isinstance(element, str)]\n",
    "    return subset_strings\n",
    "\n",
    "def elements_matching_pattern(input_list, pattern):\n",
    "    matching_elements = [element for element in input_list if pattern in element]\n",
    "    return matching_elements\n",
    "\n"
   ]
  },
  {
   "cell_type": "code",
   "execution_count": null,
   "id": "b2760aa6",
   "metadata": {},
   "outputs": [],
   "source": [
    "imgs"
   ]
  },
  {
   "cell_type": "code",
   "execution_count": null,
   "id": "cbc69c1c",
   "metadata": {},
   "outputs": [],
   "source": [
    "## extract names from file names\n",
    "\n",
    "#unique_names = list_unique_names_within_range(imgs,75,79) #June 2023\n",
    "unique_names = list_unique_names_within_range(imgs,73,77) # June 2022; July2022; June2023, June 2025\n",
    "#unique_names = list_unique_names_within_range(imgs,76,80) # October 2022; # October 2023\n",
    "#unique_names = list_unique_names_within_range(imgs,78,82) # September 2023\n",
    "#unique_names = list_unique_names_within_range(imgs,89,93) # Spring 2023\n",
    "#unique_names = list_unique_names_within_range(imgs,79,83) # Spring 2023 / 3\n",
    "#unique_names = list_unique_names_within_range(imgs,80,84) # Spring 2024\n",
    "#unique_names = list_unique_names_within_range(imgs,90,94) # Spring 2023\n",
    "unique_names.sort()\n",
    "\n",
    "\n",
    "#date = subset_strings_by_range(imgs,67,75)\n",
    "#tube = subset_strings_by_range(imgs,57,61)"
   ]
  },
  {
   "cell_type": "code",
   "execution_count": null,
   "id": "f2953c16",
   "metadata": {},
   "outputs": [],
   "source": [
    "unique_names"
   ]
  },
  {
   "cell_type": "code",
   "execution_count": null,
   "id": "9a5a6416",
   "metadata": {},
   "outputs": [],
   "source": [
    "from stitching import AffineStitcher\n",
    "#import stitching\n",
    "\n",
    "## play with the settings; hard to find good documentation on what some of them do; documentation for C++ could me informative too\n",
    "\n",
    "#print(AffineStitcher.DEFAULT_SETTINGS)\n",
    "#[print(f'{x}:\\t{AffineStitcher.DEFAULT_SETTINGS[x]}') for x in AffineStitcher.DEFAULT_SETTINGS]\n",
    "settings = {# chops everything not fitting in a rectangular\n",
    "            \"crop\": False,\n",
    "            # The matches confidences aren't that good\n",
    "            \"confidence_threshold\": 0.0001,\n",
    "            #'match_conf':0.5,\n",
    "             'refinement_mask': 'x_x_x',            \n",
    "             #'range_width': -0.1,\n",
    "             'nfeatures': 100000000,\n",
    "             #'low_megapix':5.0 ,\n",
    "             #'medium_megapix': 12,\n",
    "             'detector': \"sift\"}    \n",
    "\n",
    "## affine for scans\n",
    "stitcher = AffineStitcher(**settings) \n",
    "## other needed for perspectiive warping\n",
    "#stitcher = stitching.Stitcher(**settings)\n",
    " "
   ]
  },
  {
   "cell_type": "code",
   "execution_count": null,
   "id": "848ef30b",
   "metadata": {},
   "outputs": [],
   "source": [
    "AffineStitcher.DEFAULT_SETTINGS"
   ]
  },
  {
   "cell_type": "code",
   "execution_count": null,
   "id": "9e4591cb",
   "metadata": {},
   "outputs": [],
   "source": [
    "stitcher.settings"
   ]
  },
  {
   "cell_type": "code",
   "execution_count": null,
   "id": "d6f55fcf",
   "metadata": {},
   "outputs": [],
   "source": [
    "for i in unique_names:\n",
    "    #print(str(i))\n",
    "    matching_images = elements_matching_pattern(imgs, str(i))\n",
    "    path = path_out + str(i) + '.png'\n",
    "    #path_top = 'C:/Users/jocu0013/Desktop/blended_images/'+ 'Oulanka' + str(year) + '_' + Session + '_' + str(i) +'_top' + '.png'\n",
    "    #path_mid = 'C:/Users/jocu0013/Desktop/blended_images/'+ 'Oulanka' + str(year) + '_' + Session + '_' + str(i) +'_mid' + '.png'\n",
    "    #path_bot = 'C:/Users/jocu0013/Desktop/blended_images/'+ 'Oulanka' + str(year) + '_' + Session + '_' + str(i) +'_bot' + '.png'\n",
    "    print(path)\n",
    "    \n",
    "    ## two scanner windows\n",
    "    if len(matching_images)==2:\n",
    "        panorama = stitcher.stitch(matching_images)\n",
    "        cv2.imwrite(path,panorama)\n",
    "    ## single scanner window -> read & write without stitching\n",
    "    if len(matching_images)==1:\n",
    "        #doubling_image = matching_images + matching_images\n",
    "        panorama = cv2.imread(matching_images[0])\n",
    "        cv2.imwrite(path,panorama)\n",
    "    else:\n",
    "        # all six (potentially sequential stitching?! )\n",
    "        try:\n",
    "            panorama = stitcher.stitch(matching_images)\n",
    "            cv2.imwrite(path,panorama)\n",
    "        except:# StitchingError:\n",
    "            print(f'{i} didnt work for some reason')\n",
    "        \n"
   ]
  },
  {
   "cell_type": "code",
   "execution_count": null,
   "id": "2310d60f",
   "metadata": {},
   "outputs": [],
   "source": [
    "# Two ways of failing\n",
    "#1: StitchingError: No match exceeds the given confidence threshold.\n",
    "#2: Excluding images from a stitching set without warning - check dimensions"
   ]
  }
 ],
 "metadata": {
  "kernelspec": {
   "display_name": "Python 3 (ipykernel)",
   "language": "python",
   "name": "python3"
  },
  "language_info": {
   "codemirror_mode": {
    "name": "ipython",
    "version": 3
   },
   "file_extension": ".py",
   "mimetype": "text/x-python",
   "name": "python",
   "nbconvert_exporter": "python",
   "pygments_lexer": "ipython3",
   "version": "3.9.12"
  }
 },
 "nbformat": 4,
 "nbformat_minor": 5
}
